{
 "cells": [
  {
   "cell_type": "markdown",
   "metadata": {},
   "source": [
    "# Rotation in different reference frames\n",
    "\n",
    "In this notebook we want to look at the basics of rotation in different reference frames. To do this we will look at vectors rotating in Euclidian <span style=\"color:red\">(maybe change this name so it's more intuitive?)</span> space, and in and Minkowski spacetime.\n",
    "\n",
    "Recall that in Euclidian space on a 2 dimensional plane we have two spatial coordinates: \n",
    "\n",
    "$$\n",
    "\\mathbf{x} = \\left(\\begin{array}{l}x\\\\y\\end{array}\\right)\n",
    "$$\n",
    "\n",
    "<span style=\"color:red\">(maybe change this name so it's more intuitive?)</span>\n"
   ]
  }
 ],
 "metadata": {
  "kernelspec": {
   "display_name": "Python 3",
   "language": "python",
   "name": "python3"
  },
  "language_info": {
   "codemirror_mode": {
    "name": "ipython",
    "version": 3
   },
   "file_extension": ".py",
   "mimetype": "text/x-python",
   "name": "python",
   "nbconvert_exporter": "python",
   "pygments_lexer": "ipython3",
   "version": "3.7.4"
  }
 },
 "nbformat": 4,
 "nbformat_minor": 2
}
