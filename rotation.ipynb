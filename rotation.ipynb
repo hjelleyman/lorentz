{
 "cells": [
  {
   "cell_type": "markdown",
   "metadata": {},
   "source": [
    "# Rotation in different reference frames\n",
    "\n",
    "In this notebook we want to look at the basics of rotation in different reference frames. To do this we will look at vectors rotating in Euclidian <span style=\"color:red\">(maybe change this name so it's more intuitive?)</span> space, and in and Minkowski spacetime.\n",
    "\n",
    "Recall that in Euclidian space on a 2 dimensional plane we have two spatial coordinates: \n",
    "\n",
    "$$\n",
    "\\mathbf{x} = \\left(\\begin{array}{l}x\\\\y\\end{array}\\right)\n",
    "$$\n",
    "\n",
    "<span style=\"color:red\">(maybe change this name so it's more intuitive?)</span>\n",
    "\n",
    "\n",
    "First we need to import the relevent functions"
   ]
  },
  {
   "cell_type": "code",
   "execution_count": 1,
   "metadata": {},
   "outputs": [],
   "source": [
    "%load_ext autoreload\n",
    "%autoreload 2\n",
    "import modules.rotation as rt"
   ]
  },
  {
   "cell_type": "code",
   "execution_count": 11,
   "metadata": {},
   "outputs": [
    {
     "data": {
      "application/vnd.jupyter.widget-view+json": {
       "model_id": "49f68aef2c8f43218dce7c8b8a4c860f",
       "version_major": 2,
       "version_minor": 0
      },
      "text/plain": [
       "interactive(children=(FloatSlider(value=0.7853981633974483, continuous_update=False, description='theta', max=…"
      ]
     },
     "metadata": {},
     "output_type": "display_data"
    }
   ],
   "source": [
    "rt.plot_euclidian_vector()"
   ]
  },
  {
   "cell_type": "code",
   "execution_count": 18,
   "metadata": {},
   "outputs": [
    {
     "data": {
      "application/vnd.jupyter.widget-view+json": {
       "model_id": "73024b1725f44ad5ba2e531c5a8e9a32",
       "version_major": 2,
       "version_minor": 0
      },
      "text/plain": [
       "interactive(children=(FloatSlider(value=4.0, continuous_update=False, description='theta', max=6.2831853071795…"
      ]
     },
     "metadata": {},
     "output_type": "display_data"
    }
   ],
   "source": [
    "rt.plot_2_euclidian_vectors()"
   ]
  },
  {
   "cell_type": "markdown",
   "metadata": {},
   "source": [
    "Potentially need to discuss what is meant by the dot product."
   ]
  },
  {
   "cell_type": "code",
   "execution_count": null,
   "metadata": {},
   "outputs": [],
   "source": []
  }
 ],
 "metadata": {
  "kernelspec": {
   "display_name": "Python 3",
   "language": "python",
   "name": "python3"
  },
  "language_info": {
   "codemirror_mode": {
    "name": "ipython",
    "version": 3
   },
   "file_extension": ".py",
   "mimetype": "text/x-python",
   "name": "python",
   "nbconvert_exporter": "python",
   "pygments_lexer": "ipython3",
   "version": "3.7.4"
  }
 },
 "nbformat": 4,
 "nbformat_minor": 2
}
