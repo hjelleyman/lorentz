{
 "cells": [
  {
   "cell_type": "markdown",
   "metadata": {},
   "source": [
    "# Visualising the Lorentz Tranformation"
   ]
  },
  {
   "cell_type": "markdown",
   "metadata": {},
   "source": [
    "In this notebook we want to look at the basics of the Lorentz transformation. To do this we will look at how position four vectors change as we change reference frames. Recall that the position four vector is defined as: \n",
    "$$x= \\begin{pmatrix} c t \\\\ x \\\\ y \\\\ z \\end{pmatrix} $$\n",
    "while the Lorentz transformation $L(u)$ for a boost in the $x$ direction can be written as \n",
    "$$ L(u)=\\begin{pmatrix} \\gamma & -\\gamma \\frac{u}{c} & 0 & 0 \\\\\n",
    "             -\\gamma \\frac{u}{c} & \\gamma & 0 & 0 \\\\\n",
    "             0 & 0 & 1 & 0 \\\\\n",
    "             0 & 0 & 0 & 1 \\end{pmatrix}\n",
    "$$\n",
    "where \n",
    "$$\\gamma =\\frac{1}{\\sqrt{1- u^2}}$$ and $u$ is the velocity of the new frame."
   ]
  },
  {
   "cell_type": "markdown",
   "metadata": {},
   "source": [
    "Now to make things simpler to visualise we will ignore the $y$ and $z$ directions and\n",
    "choose units of time so that $c=1$. The equations above then become:\n",
    "$$ x =\\begin{pmatrix}  t \\\\ x \\end{pmatrix} \\quad {\\rm and} \\quad\n",
    "    L(u)=\\begin{pmatrix} \\gamma & -\\gamma u \\\\ -\\gamma u & \\gamma \\end{pmatrix}\n",
    "$$"
   ]
  },
  {
   "cell_type": "markdown",
   "metadata": {},
   "source": [
    "To go from one reference frame to another we simple calculate $L(u) v$. This gives:\n",
    "$$ \\begin{pmatrix}  t' \\\\ x' \\end{pmatrix} =\n",
    "\\begin{pmatrix} \\gamma & -\\gamma u \\\\ -\\gamma u & \\gamma \\end{pmatrix} \\begin{pmatrix}  t \\\\ x \\end{pmatrix}\n",
    "$$\n",
    "or \n",
    "$$ t'=\\gamma (t - u x) \\quad {\\rm and} x'=\\gamma(x-u t) $$"
   ]
  },
  {
   "cell_type": "markdown",
   "metadata": {},
   "source": [
    "Thus we can see that the mathematics of special relativity is trival. It is just multiplying a vector by a matrix. It is the consquences that are profund and counter-interative. Which is what we want to focus on here."
   ]
  },
  {
   "cell_type": "markdown",
   "metadata": {},
   "source": [
    "## Space-Time"
   ]
  },
  {
   "cell_type": "markdown",
   "metadata": {},
   "source": [
    "Space-time is the playground where we will explore the effects of relativity. The convention is to plot space-time with time going along the vertical axis. To see how this works we start with the usual Python libraries."
   ]
  },
  {
   "cell_type": "code",
   "execution_count": null,
   "metadata": {},
   "outputs": [],
   "source": [
    "from modules import lorentz as lz\n",
    "from modules.lorentz import lorentz\n",
    "\n",
    "%load_ext autoreload\n",
    "%autoreload 2\n",
    "%matplotlib inline"
   ]
  },
  {
   "cell_type": "markdown",
   "metadata": {},
   "source": [
    "Now we plot empty space:"
   ]
  },
  {
   "cell_type": "code",
   "execution_count": null,
   "metadata": {},
   "outputs": [],
   "source": [
    "lz.plot_empty_space()"
   ]
  },
  {
   "cell_type": "markdown",
   "metadata": {},
   "source": [
    "Note much is going on there since it is just empty space. The next thing is to add a couple of lines that describe the speed of light. This is the light cone for an object at the origin."
   ]
  },
  {
   "cell_type": "code",
   "execution_count": null,
   "metadata": {},
   "outputs": [],
   "source": [
    "lz.plot_light_cones()"
   ]
  },
  {
   "cell_type": "markdown",
   "metadata": {},
   "source": [
    "Now as causality still applies in all reference frames the Lorentz transformation cannot move an object from one region (bound by red lines above) to another. We can now see what happens to different events when we view them from different reference frames."
   ]
  },
  {
   "cell_type": "markdown",
   "metadata": {},
   "source": [
    "### The origin"
   ]
  },
  {
   "cell_type": "markdown",
   "metadata": {},
   "source": [
    "The first point to consider is the origin. The is the space-time event:\n",
    "$$\\begin{pmatrix} 0 \\\\ 0 \\end{pmatrix} $$\n",
    "which transforms as\n",
    "$$ \n",
    "\\begin{pmatrix} \\gamma & -\\gamma u \\\\ -\\gamma u & \\gamma \\end{pmatrix} \\begin{pmatrix}  0 \\\\ 0 \\end{pmatrix} \\quad = \\quad \\begin{pmatrix} 0 \\\\ 0 \\end{pmatrix} \n",
    "$$\n",
    "\n",
    "So the origin is the same for all reference frames irrespective of their velocity. We can plot this easily enough\n"
   ]
  },
  {
   "cell_type": "code",
   "execution_count": null,
   "metadata": {},
   "outputs": [],
   "source": [
    "lz.plot_event_at_origin()"
   ]
  },
  {
   "cell_type": "markdown",
   "metadata": {},
   "source": [
    "### Transform of pure time like events."
   ]
  },
  {
   "cell_type": "markdown",
   "metadata": {},
   "source": [
    "Suppose now we built a light house at $x=0$ and set it to flash once a hour. If we are standing at $x=0$ we will observe a sequence of events:\n",
    "$$\\begin{pmatrix} 0 \\\\ 0 \\end{pmatrix}, \\quad \\begin{pmatrix} 1 \\\\ 0 \\end{pmatrix}, \\quad\n",
    "\\begin{pmatrix} 2 \\\\ 0 \\end{pmatrix}, \\quad \\begin{pmatrix} 3 \\\\ 0 \\end{pmatrix} ...\n",
    "$$\n",
    "Which we can plot as:"
   ]
  },
  {
   "cell_type": "code",
   "execution_count": null,
   "metadata": {},
   "outputs": [],
   "source": [
    "lz.plot_flashing_lighthouse()"
   ]
  },
  {
   "cell_type": "markdown",
   "metadata": {},
   "source": [
    "So next we want to know what an observer moving at a different velocity will measure. This \n",
    "means calculating:\n",
    "Suppose now we built a light house at $x=$ and set it to flash once a hour. If we are standing at $x=0$ we will observe a sequence of events:\n",
    "$$\\begin{pmatrix} \\gamma & -\\gamma u \\\\ -\\gamma u & \\gamma \\end{pmatrix} \\begin{pmatrix} 0 \\\\ 0 \\end{pmatrix}, \\quad \\begin{pmatrix} \\gamma & -\\gamma u \\\\ -\\gamma u & \\gamma \\end{pmatrix} \\begin{pmatrix} 1 \\\\ 0 \\end{pmatrix}, \\quad\n",
    "\\begin{pmatrix} \\gamma & -\\gamma u \\\\ -\\gamma u & \\gamma \\end{pmatrix} \\begin{pmatrix} 2 \\\\ 0 \\end{pmatrix}, \\quad ...\n",
    "$$\n",
    "For a fixed velocity $v$."
   ]
  },
  {
   "cell_type": "code",
   "execution_count": null,
   "metadata": {},
   "outputs": [],
   "source": [
    "%%capture\n",
    "ani = lz.animation_lorentz_1()"
   ]
  },
  {
   "cell_type": "code",
   "execution_count": null,
   "metadata": {},
   "outputs": [],
   "source": [
    "ani"
   ]
  },
  {
   "cell_type": "markdown",
   "metadata": {},
   "source": [
    "In the graph above you can adjust the relative velocty from $-1<u<1$. As you change the value of the velocity you can see the dots move away from the origin and also to go to greater times. This is the effect of time dilation that we have learnt about in class.\n",
    "\n",
    "We can see what happens to each point using the Lorentz transform. Starting with the event at time $t$ this gets transformed to:\n",
    "$$\\begin{pmatrix} \\gamma & -\\gamma u \\\\ -\\gamma u & \\gamma \\end{pmatrix} \n",
    "\\begin{pmatrix} t \\\\ 0 \\end{pmatrix} \\quad = \\quad \n",
    "\\begin{pmatrix} \\gamma t \\\\ -\\gamma u \\end{pmatrix} \\quad =\n",
    "\\begin{pmatrix} \\frac{t}{\\sqrt{1-u^2/c^2}} \\\\ -\\frac{u t}{\\sqrt{1-u^2/c^2}} \\end{pmatrix} \n",
    "$$\n",
    "where I have re-introduced $c$ to make it clear the effects of the speed of light. We can plot these as curves defined by $t(u)$ and $x(u)$. These are hyperbolae as we can see before."
   ]
  },
  {
   "cell_type": "code",
   "execution_count": null,
   "metadata": {},
   "outputs": [],
   "source": [
    "%%capture\n",
    "ani = lz.animation_with_hyperbolae()"
   ]
  },
  {
   "cell_type": "code",
   "execution_count": null,
   "metadata": {},
   "outputs": [],
   "source": [
    "ani"
   ]
  },
  {
   "cell_type": "markdown",
   "metadata": {},
   "source": [
    "In the plot above we can now see that as expected the points move along the curves we calculated. And again the effects of time dilation are obvious."
   ]
  },
  {
   "cell_type": "markdown",
   "metadata": {},
   "source": [
    "## Length Contraction"
   ]
  },
  {
   "cell_type": "markdown",
   "metadata": {},
   "source": [
    "Suppose now we built a second light house at $x=1$ and set it to flash once a hour exactly in sync with the one at $x=0$. If we are standing at $x=0$ we will observe a sequence of events:\n",
    "$$\\begin{pmatrix} 0 \\\\ 0 \\end{pmatrix}, \\quad \\begin{pmatrix} 1 \\\\ 0 \\end{pmatrix}, \\quad\n",
    "\\begin{pmatrix} 2 \\\\ 0 \\end{pmatrix}, \\quad \\begin{pmatrix} 3 \\\\ 0 \\end{pmatrix} ...\n",
    "$$\n",
    "from the original lighthouse and from the second we will observe:\n",
    "$$\\begin{pmatrix} 0 \\\\ 1 \\end{pmatrix}, \\quad \\begin{pmatrix} 1 \\\\ 1 \\end{pmatrix}, \\quad\n",
    "\\begin{pmatrix} 2 \\\\ 1 \\end{pmatrix}, \\quad \\begin{pmatrix} 3 \\\\ 1 \\end{pmatrix} ...\n",
    "$$\n",
    "\n",
    "Note that this when and where the events happen in space-time not when an observer located somewhere in space-time will see them. \n",
    "Which we can plot these events as before:"
   ]
  },
  {
   "cell_type": "code",
   "execution_count": null,
   "metadata": {},
   "outputs": [],
   "source": [
    "lz.lighthouse()"
   ]
  },
  {
   "cell_type": "markdown",
   "metadata": {},
   "source": [
    "Now as before we look at what happens when we transform to a frame moving at a velocity $u$ relative to the original one."
   ]
  },
  {
   "cell_type": "code",
   "execution_count": null,
   "metadata": {},
   "outputs": [],
   "source": [
    "%%capture\n",
    "ani = lz.animated_lighthouse()"
   ]
  },
  {
   "cell_type": "code",
   "execution_count": null,
   "metadata": {},
   "outputs": [],
   "source": [
    "ani"
   ]
  },
  {
   "cell_type": "markdown",
   "metadata": {},
   "source": [
    "Here again length contraction can be clearly seen. It is also clear that while the events occur at the same time in the first reference frame they do not occur at the same time in any other reference frame."
   ]
  },
  {
   "cell_type": "markdown",
   "metadata": {},
   "source": [
    "## SImultaneity\n",
    "\n",
    "This is another tricky topic we should try to address."
   ]
  }
 ],
 "metadata": {
  "kernelspec": {
   "display_name": "Python 3",
   "language": "python",
   "name": "python3"
  },
  "language_info": {
   "codemirror_mode": {
    "name": "ipython",
    "version": 3
   },
   "file_extension": ".py",
   "mimetype": "text/x-python",
   "name": "python",
   "nbconvert_exporter": "python",
   "pygments_lexer": "ipython3",
   "version": "3.7.4"
  }
 },
 "nbformat": 4,
 "nbformat_minor": 4
}
