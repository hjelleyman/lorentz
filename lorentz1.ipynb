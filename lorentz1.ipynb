{
 "cells": [
  {
   "cell_type": "markdown",
   "metadata": {},
   "source": [
    "# Visualising the Lorentz Tranformation"
   ]
  },
  {
   "cell_type": "markdown",
   "metadata": {},
   "source": [
    "In this notebook we want to look at the basics of the Lorentz transformation. To do this we will look at how position four vectors change as we change reference frames. Recall that the position four vector is defined as: \n",
    "$$v= \\begin{pmatrix} c t \\\\ x \\\\ y \\\\ z \\end{pmatrix} $$\n",
    "while the Lorentz transformation $L(u)$ for a boost in the $x$ direction can be written as \n",
    "$$ L(u)=\\begin{pmatrix} \\gamma & -\\gamma \\frac{u}{c} & 0 & 0 \\\\\n",
    "             -\\gamma \\frac{u}{c} & \\gamma & 0 & 0 \\\\\n",
    "             0 & 0 & 1 & 0 \\\\\n",
    "             0 & 0 & 0 & 1 \\end{pmatrix}\n",
    "$$\n",
    "where \n",
    "$$\\gamma =\\frac{1}{\\sqrt{1- u^2}}$$ and $u$ is the velocity of the new frame."
   ]
  },
  {
   "cell_type": "markdown",
   "metadata": {},
   "source": [
    "Now to make things simpler to visualise we will ignore the $y$ and $z$ directions and\n",
    "choose units of time so that $c=1$. The equations above then become:\n",
    "$$ v =\\begin{pmatrix}  t \\\\ x \\end{pmatrix} \\quad {\\rm and} \\quad\n",
    "    L(u)=\\begin{pmatrix} \\gamma & -\\gamma u \\\\ -\\gamma u & \\gamma \\end{pmatrix}\n",
    "$$"
   ]
  },
  {
   "cell_type": "markdown",
   "metadata": {},
   "source": [
    "To go from one reference frame to another we simple calculate $L(u) v$. This gives:\n",
    "$$ \\begin{pmatrix}  t' \\\\ x' \\end{pmatrix} =\n",
    "\\begin{pmatrix} \\gamma & -\\gamma u \\\\ -\\gamma u & \\gamma \\end{pmatrix} \\begin{pmatrix}  t \\\\ x \\end{pmatrix}\n",
    "$$\n",
    "or \n",
    "$$ t'=\\gamma (t - u x) \\quad {\\rm and} x'=\\gamma(x-u t) $$"
   ]
  },
  {
   "cell_type": "markdown",
   "metadata": {},
   "source": [
    "Thus we can see that the mathematics of special relativity is trival. It is just multiplying a vector by a matrix. It is the consquences that are profund and counter-interative. Which is what we want to focus on here."
   ]
  },
  {
   "cell_type": "markdown",
   "metadata": {},
   "source": [
    "## Space-Time"
   ]
  },
  {
   "cell_type": "markdown",
   "metadata": {},
   "source": [
    "Space-time is the playground where we will explore the effects of relativity. The convention is to plot space-time with time going along the vertical axis. To see how this works we start with the usual Python libraries."
   ]
  },
  {
   "cell_type": "code",
   "execution_count": 5,
   "metadata": {},
   "outputs": [],
   "source": [
    "import numpy as np\n",
    "%matplotlib inline\n",
    "import matplotlib.pyplot as plt\n",
    "import matplotlib.animation as animation"
   ]
  },
  {
   "cell_type": "markdown",
   "metadata": {},
   "source": [
    "Now we plot empty space:"
   ]
  },
  {
   "cell_type": "code",
   "execution_count": 6,
   "metadata": {},
   "outputs": [
    {
     "data": {
      "image/png": "[encoded data removed]",
      "text/plain": [
       "<Figure size 432x288 with 1 Axes>"
      ]
     },
     "metadata": {
      "needs_background": "light"
     },
     "output_type": "display_data"
    }
   ],
   "source": [
    "time=np.linspace(-6,20,100)\n",
    "space=np.linspace(-20,20,100)\n",
    "plt.figure(1)\n",
    "plt.plot(space,time,linewidth=0,label='Playground')\n",
    "plt.legend()\n",
    "plt.show()"
   ]
  },
  {
   "cell_type": "markdown",
   "metadata": {},
   "source": [
    "Note much is going on there since it is just empty space. The next thing is to add a couple of lines that describe the speed of light. This is the light cone for an object at the origin."
   ]
  },
  {
   "cell_type": "code",
   "execution_count": 7,
   "metadata": {},
   "outputs": [
    {
     "data": {
      "image/png": "[encoded data removed]",
      "text/plain": [
       "<Figure size 432x288 with 1 Axes>"
      ]
     },
     "metadata": {
      "needs_background": "light"
     },
     "output_type": "display_data"
    }
   ],
   "source": [
    "line1=np.linspace(-20,20,100)\n",
    "line2=np.linspace(20,-20,100)\n",
    "plt.figure(2)\n",
    "plt.plot(space,line1,linewidth=1,color='red')\n",
    "plt.plot(space,line2,linewidth=1,color='red')\n",
    "plt.xlim(-20,20)\n",
    "plt.ylim(-10,20)\n",
    "plt.annotate(' Causal Future',(-5,10),\n",
    "            xytext=(0.5, 0.9), textcoords='axes fraction',\n",
    "            fontsize=16,\n",
    "            horizontalalignment='center', verticalalignment='top')\n",
    "plt.annotate('Causal Past',(-5,10),\n",
    "            xytext=(0.5, 0.1), textcoords='axes fraction',\n",
    "            fontsize=16,\n",
    "            horizontalalignment='center', verticalalignment='top')\n",
    "plt.annotate('acausal region',(0,10),\n",
    "            xytext=(0.8, 0.4), textcoords='axes fraction',\n",
    "            fontsize=16,\n",
    "            horizontalalignment='center', verticalalignment='top')\n",
    "plt.annotate('acausal region',(0,10),\n",
    "            xytext=(0.2, 0.4), textcoords='axes fraction',\n",
    "            fontsize=16,\n",
    "            horizontalalignment='center', verticalalignment='top')\n",
    "\n",
    "\n",
    "plt.title('Light Cones')\n",
    "plt.show()"
   ]
  },
  {
   "cell_type": "markdown",
   "metadata": {},
   "source": [
    "Now as causality still applies in all reference frames the Lorentz transformation cannot move an object from one region (bound by red lines above) to another. We can now see what happens to different events when we view them from different reference frames."
   ]
  },
  {
   "cell_type": "markdown",
   "metadata": {},
   "source": [
    "### The origin"
   ]
  },
  {
   "cell_type": "markdown",
   "metadata": {},
   "source": [
    "The first point to consider is the origin. The is the space-time event:\n",
    "$$\\begin{pmatrix} 0 \\\\ 0 \\end{pmatrix} $$\n",
    "which transforms as\n",
    "$$ \n",
    "\\begin{pmatrix} \\gamma & -\\gamma u \\\\ -\\gamma u & \\gamma \\end{pmatrix} \\begin{pmatrix}  0 \\\\ 0 \\end{pmatrix} \\quad = \\quad \\begin{pmatrix} 0 \\\\ 0 \\end{pmatrix} \n",
    "$$\n",
    "\n",
    "So the origin is the same for all reference frames irrespective of their velocity. We can plot this easily enough\n"
   ]
  },
  {
   "cell_type": "code",
   "execution_count": 8,
   "metadata": {},
   "outputs": [
    {
     "data": {
      "image/png": "[encoded data removed]",
      "text/plain": [
       "<Figure size 432x288 with 1 Axes>"
      ]
     },
     "metadata": {
      "needs_background": "light"
     },
     "output_type": "display_data"
    }
   ],
   "source": [
    "line1=np.linspace(-20,20,100)\n",
    "line2=np.linspace(20,-20,100)\n",
    "plt.figure(3)\n",
    "plt.plot(space,line1,linewidth=1,color='red')\n",
    "plt.plot(space,line2,linewidth=1,color='red')\n",
    "plt.xlim(-20,20)\n",
    "plt.ylim(-2,20)\n",
    "plt.plot([0], [0], 'o')\n",
    "\n",
    "plt.title('Transform of an event at the origin')\n",
    "plt.show()"
   ]
  },
  {
   "cell_type": "markdown",
   "metadata": {},
   "source": [
    "### Transform of pure time like events."
   ]
  },
  {
   "cell_type": "markdown",
   "metadata": {},
   "source": [
    "Suppose now we built a light house at $x=0$ and set it to flash once a hour. If we are standing at $x=0$ we will observe a sequence of events:\n",
    "$$\\begin{pmatrix} 0 \\\\ 0 \\end{pmatrix}, \\quad \\begin{pmatrix} 1 \\\\ 0 \\end{pmatrix}, \\quad\n",
    "\\begin{pmatrix} 2 \\\\ 0 \\end{pmatrix}, \\quad \\begin{pmatrix} 3 \\\\ 0 \\end{pmatrix} ...\n",
    "$$\n",
    "Which we can plot as:"
   ]
  },
  {
   "cell_type": "code",
   "execution_count": 9,
   "metadata": {},
   "outputs": [
    {
     "data": {
      "image/png": "[encoded data removed]",
      "text/plain": [
       "<Figure size 432x288 with 1 Axes>"
      ]
     },
     "metadata": {
      "needs_background": "light"
     },
     "output_type": "display_data"
    }
   ],
   "source": [
    "line1=np.linspace(-20,20,100)\n",
    "line2=np.linspace(20,-20,100)\n",
    "plt.figure(4)\n",
    "plt.plot(space,line1,linewidth=1,color='red')\n",
    "plt.plot(space,line2,linewidth=1,color='red')\n",
    "plt.xlim(-20,20)\n",
    "plt.ylim(-2,20)\n",
    "line3=np.zeros(11)\n",
    "line4=np.linspace(0,10,11)\n",
    "plt.plot(line3, line4, 'o')\n",
    "\n",
    "plt.title('Flashing lighthouse at the origin')\n",
    "plt.show()"
   ]
  },
  {
   "cell_type": "markdown",
   "metadata": {},
   "source": [
    "So next we want to know what an observer moving at a different velocity will measure. This \n",
    "means calculating:\n",
    "Suppose now we built a light house at $x=$ and set it to flash once a hour. If we are standing at $x=0$ we will observe a sequence of events:\n",
    "$$\\begin{pmatrix} \\gamma & -\\gamma u \\\\ -\\gamma u & \\gamma \\end{pmatrix} \\begin{pmatrix} 0 \\\\ 0 \\end{pmatrix}, \\quad \\begin{pmatrix} \\gamma & -\\gamma u \\\\ -\\gamma u & \\gamma \\end{pmatrix} \\begin{pmatrix} 1 \\\\ 0 \\end{pmatrix}, \\quad\n",
    "\\begin{pmatrix} \\gamma & -\\gamma u \\\\ -\\gamma u & \\gamma \\end{pmatrix} \\begin{pmatrix} 2 \\\\ 0 \\end{pmatrix}, \\quad ...\n",
    "$$\n",
    "For a fixed velocity $v$."
   ]
  },
  {
   "cell_type": "code",
   "execution_count": 10,
   "metadata": {},
   "outputs": [],
   "source": [
    "def lorentz(v): #define the Lorentz transformation as a 2x2 matrix\n",
    "    gamma=1.0/np.sqrt(1-v*v)\n",
    "    return np.array([[gamma,-gamma*v],[-gamma*v,gamma]])"
   ]
  },
  {
   "cell_type": "code",
   "execution_count": 11,
   "metadata": {},
   "outputs": [
    {
     "data": {
      "image/png": "[encoded data removed]",
      "text/plain": [
       "<Figure size 432x288 with 1 Axes>"
      ]
     },
     "metadata": {
      "needs_background": "light"
     },
     "output_type": "display_data"
    }
   ],
   "source": [
    "#now we transform the points above.\n",
    "\n",
    "line5=np.zeros(len(line3))\n",
    "line6=np.zeros(len(line3))\n",
    "for ii in range(len(line3)):\n",
    "    point=np.array([line4[ii],line3[ii]])  #remember that time is the first element.\n",
    "    point=np.dot(lorentz(0.8),point)   #dot does matrix multiplication\n",
    "    line5[ii]=point[0]\n",
    "    line6[ii]=point[1]\n",
    "    #print(point)\n",
    "\n",
    "    plt.figure(5)\n",
    "plt.plot(space,line1,linewidth=1,color='red')\n",
    "plt.plot(space,line2,linewidth=1,color='red')\n",
    "plt.xlim(-20,20)\n",
    "plt.ylim(-2,20)\n",
    "plt.plot(line6, line5, 'o')\n",
    "plt.plot(line3, line4, 'o',color='green')\n",
    "\n",
    "plt.title('Flashing lighthouse at the origin - moving observer')\n",
    "plt.show()"
   ]
  },
  {
   "cell_type": "code",
   "execution_count": 12,
   "metadata": {},
   "outputs": [],
   "source": [
    "from ipywidgets import interactive\n",
    "%matplotlib inline"
   ]
  },
  {
   "cell_type": "code",
   "execution_count": 13,
   "metadata": {
    "scrolled": false
   },
   "outputs": [
    {
     "data": {
      "application/vnd.jupyter.widget-view+json": {
       "model_id": "0b31430d521c4a0a9d4c8ac5526dc421",
       "version_major": 2,
       "version_minor": 0
      },
      "text/plain": [
       "interactive(children=(FloatSlider(value=-0.009000000000000008, description='u', max=0.999, min=-0.999, step=0.…"
      ]
     },
     "metadata": {},
     "output_type": "display_data"
    }
   ],
   "source": [
    "def f(u):\n",
    "    plt.figure(6,figsize=[12.0, 9.0])\n",
    "    for ii in range(len(line3)):\n",
    "        point=np.array([line4[ii],line3[ii]])  #remember that time is the first element.\n",
    "        point=np.dot(lorentz(u),point)   #dot does matrix multiplication\n",
    "        line5[ii]=point[0]\n",
    "        line6[ii]=point[1]\n",
    "    plt.plot(space,line1,linewidth=1,color='red')\n",
    "    plt.plot(space,line2,linewidth=1,color='red')\n",
    "    plt.xlim(-20,20)\n",
    "    plt.ylim(-2,20)\n",
    "    plt.plot(line6, line5, 'o')\n",
    "    plt.plot(line3, line4, 'o',color='green')\n",
    "    plt.title('Flashing lighthouse at the origin - moving observer')\n",
    "    plt.show()\n",
    "\n",
    "interactive_plot = interactive(f, u=(-0.999, 0.999,0.01))\n",
    "output = interactive_plot.children[-1]\n",
    "output.layout.height = '650px'\n",
    "interactive_plot"
   ]
  },
  {
   "cell_type": "markdown",
   "metadata": {},
   "source": [
    "In the graph above you can adjust the relative velocty from $-1<u<1$. As you change the value of the velocity you can see the dots move away from the origin and also to go to greater times. This is the effect of time dilation that we have learnt about in class.\n",
    "\n",
    "We can see what happens to each point using the Lorentz transform. Starting with the event at time $t$ this gets transformed to:\n",
    "$$\\begin{pmatrix} \\gamma & -\\gamma u \\\\ -\\gamma u & \\gamma \\end{pmatrix} \n",
    "\\begin{pmatrix} t \\\\ 0 \\end{pmatrix} \\quad = \\quad \n",
    "\\begin{pmatrix} \\gamma t \\\\ -\\gamma u \\end{pmatrix} \\quad =\n",
    "\\begin{pmatrix} \\frac{t}{\\sqrt{1-u^2/c^2}} \\\\ -\\frac{u t}{\\sqrt{1-u^2/c^2}} \\end{pmatrix} \n",
    "$$\n",
    "where I have re-introduced $c$ to make it clear the effects of the speed of light. We can plot these as curves defined by $t(u)$ and $x(u)$. These are hyperbolae as we can see before."
   ]
  },
  {
   "cell_type": "code",
   "execution_count": 14,
   "metadata": {},
   "outputs": [
    {
     "data": {
      "application/vnd.jupyter.widget-view+json": {
       "model_id": "02feb391563b48acbe2b0b2e65c838b3",
       "version_major": 2,
       "version_minor": 0
      },
      "text/plain": [
       "interactive(children=(FloatSlider(value=-0.009000000000000008, description='u', max=0.999, min=-0.999, step=0.…"
      ]
     },
     "metadata": {},
     "output_type": "display_data"
    }
   ],
   "source": [
    "velocities=np.linspace(-0.999,0.999,2001)\n",
    "\n",
    "ln1=np.zeros((len(velocities),2))\n",
    "ln2=np.zeros((len(velocities),2))\n",
    "ln3=np.zeros((len(velocities),2))\n",
    "ln4=np.zeros((len(velocities),2))\n",
    "ln5=np.zeros((len(velocities),2))\n",
    "ln6=np.zeros((len(velocities),2))\n",
    "ln7=np.zeros((len(velocities),2))\n",
    "ln8=np.zeros((len(velocities),2))\n",
    "ln9=np.zeros((len(velocities),2))\n",
    "ln10=np.zeros((len(velocities),2))\n",
    "\n",
    "for ii in range(len(velocities)):\n",
    "    vel=velocities[ii]\n",
    "    gamma=1.0/np.sqrt(1.0-vel*vel)\n",
    "    ln1[ii]=np.dot(lorentz(vel),np.array([1,0]))\n",
    "    ln2[ii]=np.dot(lorentz(vel),np.array([2,0]))\n",
    "    ln3[ii]=np.dot(lorentz(vel),np.array([3,0]))\n",
    "    ln4[ii]=np.dot(lorentz(vel),np.array([4,0]))\n",
    "    ln5[ii]=np.dot(lorentz(vel),np.array([5,0]))\n",
    "    ln6[ii]=np.dot(lorentz(vel),np.array([6,0]))\n",
    "    ln7[ii]=np.dot(lorentz(vel),np.array([7,0]))\n",
    "    ln8[ii]=np.dot(lorentz(vel),np.array([8,0]))\n",
    "    ln9[ii]=np.dot(lorentz(vel),np.array([9,0]))\n",
    "    ln10[ii]=np.dot(lorentz(vel),np.array([10,0]))\n",
    "    \n",
    "\n",
    "    \n",
    "def f2(u):\n",
    "    plt.figure(7,figsize=[12.0, 9.0])\n",
    "    plt.plot(space,line1,linewidth=1,color='red')\n",
    "    plt.plot(space,line2,linewidth=1,color='red')\n",
    "    plt.plot(ln1[:,1],ln1[:,0],linewidth=1,color='black')\n",
    "    plt.plot(ln2[:,1],ln2[:,0],linewidth=1,color='black')\n",
    "    plt.plot(ln3[:,1],ln3[:,0],linewidth=1,color='black')\n",
    "    plt.plot(ln4[:,1],ln4[:,0],linewidth=1,color='black')\n",
    "    plt.plot(ln5[:,1],ln5[:,0],linewidth=1,color='black')\n",
    "    plt.plot(ln6[:,1],ln6[:,0],linewidth=1,color='black')\n",
    "    plt.plot(ln7[:,1],ln7[:,0],linewidth=1,color='black')\n",
    "    plt.plot(ln8[:,1],ln8[:,0],linewidth=1,color='black')\n",
    "    plt.plot(ln9[:,1],ln9[:,0],linewidth=1,color='black')\n",
    "    plt.plot(ln10[:,1],ln10[:,0],linewidth=1,color='black')\n",
    "    plt.xlim(-20,20)\n",
    "    plt.ylim(-2,20)\n",
    "\n",
    "    for ii in range(len(line3)):\n",
    "        point=np.array([line4[ii],line3[ii]])  #remember that time is the first element.\n",
    "        point=np.dot(lorentz(u),point)   #dot does matrix multiplication\n",
    "        line5[ii]=point[0]\n",
    "        line6[ii]=point[1]\n",
    "    plt.plot(line6, line5, 'o')\n",
    "    plt.plot(line3, line4, 'o',color='green')\n",
    "    plt.title('Flashing lighthouse at the origin - moving observer')\n",
    "    plt.show()\n",
    "\n",
    "interactive_plot = interactive(f2, u=(-0.999, 0.999,0.01))\n",
    "output = interactive_plot.children[-1]\n",
    "output.layout.height = '650px'\n",
    "interactive_plot"
   ]
  },
  {
   "cell_type": "markdown",
   "metadata": {},
   "source": [
    "In the plot above we can now see that as expected the points move along the curves we calculated. And again the effects of time dilation are obvious."
   ]
  },
  {
   "cell_type": "markdown",
   "metadata": {},
   "source": [
    "## Length Contraction"
   ]
  },
  {
   "cell_type": "markdown",
   "metadata": {},
   "source": [
    "Suppose now we built a second light house at $x=1$ and set it to flash once a hour exactly in sync with the one at $x=0$. If we are standing at $x=0$ we will observe a sequence of events:\n",
    "$$\\begin{pmatrix} 0 \\\\ 0 \\end{pmatrix}, \\quad \\begin{pmatrix} 1 \\\\ 0 \\end{pmatrix}, \\quad\n",
    "\\begin{pmatrix} 2 \\\\ 0 \\end{pmatrix}, \\quad \\begin{pmatrix} 3 \\\\ 0 \\end{pmatrix} ...\n",
    "$$\n",
    "from the original lighthouse and from the second we will observe:\n",
    "$$\\begin{pmatrix} 0 \\\\ 1 \\end{pmatrix}, \\quad \\begin{pmatrix} 1 \\\\ 1 \\end{pmatrix}, \\quad\n",
    "\\begin{pmatrix} 2 \\\\ 1 \\end{pmatrix}, \\quad \\begin{pmatrix} 3 \\\\ 1 \\end{pmatrix} ...\n",
    "$$\n",
    "\n",
    "Note that this when and where the events happen in space-time not when an observer located somewhere in space-time will see them. \n",
    "Which we can plot these events as before:"
   ]
  },
  {
   "cell_type": "code",
   "execution_count": 15,
   "metadata": {},
   "outputs": [
    {
     "data": {
      "image/png": "[encoded data removed]",
      "text/plain": [
       "<Figure size 432x288 with 1 Axes>"
      ]
     },
     "metadata": {
      "needs_background": "light"
     },
     "output_type": "display_data"
    }
   ],
   "source": [
    "line1=np.linspace(-20,20,100)\n",
    "line2=np.linspace(20,-20,100)\n",
    "plt.figure(8)\n",
    "plt.plot(space,line1,linewidth=1,color='red')\n",
    "plt.plot(space,line2,linewidth=1,color='red')\n",
    "plt.xlim(-15,15)\n",
    "plt.ylim(-2,20)\n",
    "line3=np.zeros(11)\n",
    "line4=np.linspace(0,10,11)\n",
    "plt.plot(line3, line4, 'o',color='green')\n",
    "plt.plot(line3+1, line4, 'o',color='red')\n",
    "\n",
    "plt.title('Flashing lighthouses measured by an observer in their reference frame')\n",
    "plt.show()"
   ]
  },
  {
   "cell_type": "markdown",
   "metadata": {},
   "source": [
    "Now as before we look at what happens when we transform to a frame moving at a velocity $u$ relative to the original one."
   ]
  },
  {
   "cell_type": "code",
   "execution_count": 16,
   "metadata": {},
   "outputs": [
    {
     "data": {
      "application/vnd.jupyter.widget-view+json": {
       "model_id": "a215eaf69321488c8645653a0a6acb6b",
       "version_major": 2,
       "version_minor": 0
      },
      "text/plain": [
       "interactive(children=(FloatSlider(value=-0.009000000000000008, description='u', max=0.999, min=-0.999, step=0.…"
      ]
     },
     "metadata": {},
     "output_type": "display_data"
    }
   ],
   "source": [
    "line5=np.zeros(11)\n",
    "line6=np.zeros(11)\n",
    "line7=np.zeros(11)\n",
    "line8=np.zeros(11)\n",
    "\n",
    "def f3(u):\n",
    "    plt.figure(9,figsize=[12.0, 9.0])\n",
    "    plt.plot(space,line1,linewidth=1,color='red')\n",
    "    plt.plot(space,line2,linewidth=1,color='red')\n",
    "    plt.plot(ln1[:,1],ln1[:,0],linewidth=1,color='black')\n",
    "    plt.plot(ln2[:,1],ln2[:,0],linewidth=1,color='black')\n",
    "    plt.plot(ln3[:,1],ln3[:,0],linewidth=1,color='black')\n",
    "    plt.plot(ln4[:,1],ln4[:,0],linewidth=1,color='black')\n",
    "    plt.plot(ln5[:,1],ln5[:,0],linewidth=1,color='black')\n",
    "    plt.plot(ln6[:,1],ln6[:,0],linewidth=1,color='black')\n",
    "    plt.plot(ln7[:,1],ln7[:,0],linewidth=1,color='black')\n",
    "    plt.plot(ln8[:,1],ln8[:,0],linewidth=1,color='black')\n",
    "    plt.plot(ln9[:,1],ln9[:,0],linewidth=1,color='black')\n",
    "    plt.plot(ln10[:,1],ln10[:,0],linewidth=1,color='black')\n",
    "    plt.xlim(-15,15)\n",
    "    plt.ylim(-2,20)\n",
    "\n",
    "    for ii in range(len(line3)):\n",
    "        point=np.array([line4[ii],line3[ii]])  #remember that time is the first element.\n",
    "        point=np.dot(lorentz(u),point)   #dot does matrix multiplication\n",
    "        point2=np.array([line4[ii],line3[ii]+1])  #remember that time is the first element.\n",
    "        point2=np.dot(lorentz(u),point2)   #dot does matrix multiplication\n",
    "        line5[ii]=point[0]\n",
    "        line6[ii]=point[1]\n",
    "        line7[ii]=point2[0]\n",
    "        line8[ii]=point2[1]\n",
    "        \n",
    "    plt.plot(line6, line5, 'o')\n",
    "    plt.plot(line8, line7, 'o',color='black')\n",
    "    plt.plot(line3, line4, 'o',color='green')\n",
    "    plt.plot(line3+1, line4, 'o',color='red')\n",
    "    plt.title('Flashing lighthouse at the origin - moving observer')\n",
    "    plt.show()\n",
    "\n",
    "interactive_plot = interactive(f3, u=(-0.999, 0.999,0.01))\n",
    "output = interactive_plot.children[-1]\n",
    "output.layout.height = '650px'\n",
    "interactive_plot"
   ]
  },
  {
   "cell_type": "markdown",
   "metadata": {},
   "source": [
    "Here again length contraction can be clearly seen. It is also clear that while the events occur at the same time in the first reference frame they do not occur at the same time in any other reference frame."
   ]
  },
  {
   "cell_type": "code",
   "execution_count": null,
   "metadata": {},
   "outputs": [],
   "source": []
  },
  {
   "cell_type": "code",
   "execution_count": null,
   "metadata": {},
   "outputs": [],
   "source": []
  },
  {
   "cell_type": "code",
   "execution_count": null,
   "metadata": {},
   "outputs": [],
   "source": []
  },
  {
   "cell_type": "code",
   "execution_count": null,
   "metadata": {},
   "outputs": [],
   "source": []
  },
  {
   "cell_type": "code",
   "execution_count": 18,
   "metadata": {},
   "outputs": [
    {
     "data": {
      "image/png": "[encoded data removed]",
      "text/plain": [
       "<Figure size 432x288 with 1 Axes>"
      ]
     },
     "metadata": {
      "needs_background": "light"
     },
     "output_type": "display_data"
    }
   ],
   "source": [
    "import numpy as np\n",
    "%matplotlib notebook\n",
    "import matplotlib.pyplot as plt\n",
    "import matplotlib.animation as animation\n",
    "\n",
    "\n",
    "def data_gen(t=0):\n",
    "    cnt = 0\n",
    "    while cnt < 1000:\n",
    "        cnt += 1\n",
    "        t += 0.1\n",
    "        yield t, np.sin(2*np.pi*t) * np.exp(-t/10.)\n",
    "\n",
    "\n",
    "def init():\n",
    "    ax.set_ylim(-1.1, 1.1)\n",
    "    ax.set_xlim(0, 10)\n",
    "    del xdata[:]\n",
    "    del ydata[:]\n",
    "    line.set_data(xdata, ydata)\n",
    "    return line,\n",
    "\n",
    "fig, ax = plt.subplots()\n",
    "line, = ax.plot([], [], lw=2)\n",
    "ax.grid()\n",
    "xdata, ydata = [], []\n",
    "\n",
    "\n",
    "def run(data):\n",
    "    # update the data\n",
    "    t, y = data\n",
    "    xdata.append(t)\n",
    "    ydata.append(y)\n",
    "    xmin, xmax = ax.get_xlim()\n",
    "\n",
    "    if t >= xmax:\n",
    "        ax.set_xlim(xmin, 2*xmax)\n",
    "        ax.figure.canvas.draw()\n",
    "    line.set_data(xdata, ydata)\n",
    "\n",
    "    return line,\n",
    "\n",
    "ani = animation.FuncAnimation(fig, run, data_gen, blit=False, interval=10,\n",
    "                              repeat=False, init_func=init)\n",
    "plt.show()"
   ]
  },
  {
   "cell_type": "code",
   "execution_count": null,
   "metadata": {},
   "outputs": [],
   "source": []
  }
 ],
 "metadata": {
  "kernelspec": {
   "display_name": "Python 3",
   "language": "python",
   "name": "python3"
  },
  "language_info": {
   "codemirror_mode": {
    "name": "ipython",
    "version": 3
   },
   "file_extension": ".py",
   "mimetype": "text/x-python",
   "name": "python",
   "nbconvert_exporter": "python",
   "pygments_lexer": "ipython3",
   "version": "3.7.5"
  }
 },
 "nbformat": 4,
 "nbformat_minor": 2
}
